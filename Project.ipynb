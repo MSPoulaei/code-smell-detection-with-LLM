{
 "cells": [
  {
   "cell_type": "markdown",
   "metadata": {},
   "source": [
    "# Preparing Dataset "
   ]
  },
  {
   "cell_type": "code",
   "execution_count": null,
   "metadata": {},
   "outputs": [],
   "source": [
    "!gdown 119xWUEtRx5T92uThnpbMydY4Tz4HIycO"
   ]
  },
  {
   "cell_type": "code",
   "execution_count": null,
   "metadata": {},
   "outputs": [],
   "source": [
    "!unzip dataset.zip"
   ]
  },
  {
   "cell_type": "code",
   "execution_count": 1,
   "metadata": {},
   "outputs": [],
   "source": [
    "import os\n",
    "import pandas as pd"
   ]
  },
  {
   "cell_type": "code",
   "execution_count": 9,
   "metadata": {},
   "outputs": [],
   "source": [
    "CODE_OUTPUT_PATH=\"output_code\"\n",
    "SOURCE_CODE_NAME=\"source<counter>.java\"\n",
    "code_dir = \"code\"\n",
    "label_dir = \"label\"\n",
    "prefix = 'dataset'\n",
    "counter_code=0"
   ]
  },
  {
   "cell_type": "code",
   "execution_count": 12,
   "metadata": {},
   "outputs": [],
   "source": [
    "def combine_and_save_source_code(folder_dir):\n",
    "    global counter_code\n",
    "    combined_contents = []\n",
    "    for dir, _, files in os.walk(folder_dir):\n",
    "        for file in files:\n",
    "            # if file == SOURCE_CODE_NAME:\n",
    "            #     continue\n",
    "            file_path = os.path.join(dir, file)\n",
    "            with open(file_path, 'r') as f:\n",
    "                content = f.read()\n",
    "                combined_contents.append(content)\n",
    "    counter_code+=1\n",
    "    output_path = os.path.join(CODE_OUTPUT_PATH,SOURCE_CODE_NAME.replace(\"<counter>\",str(counter_code)))\n",
    "    if not os.path.exists(CODE_OUTPUT_PATH):\n",
    "        os.mkdir(CODE_OUTPUT_PATH)\n",
    "    with open(output_path, 'w') as f:\n",
    "        f.write(\"\\n\\n\".join(combined_contents))\n",
    "    return output_path"
   ]
  },
  {
   "cell_type": "code",
   "execution_count": null,
   "metadata": {},
   "outputs": [],
   "source": [
    "last_name = None\n",
    "last_codesmell = []\n",
    "dataset = []\n",
    "for dir, folders, files in os.walk(os.path.join(prefix,label_dir)):\n",
    "    name = dir.split(\"\\\\\")[-1]\n",
    "    for file in files:\n",
    "        if file == 'designCodeSmells.csv' or file=='implementationCodeSmells.csv':\n",
    "            file_path = os.path.join(dir, file)\n",
    "            print(file_path)\n",
    "            df = pd.read_csv(file_path)\n",
    "            for index,row in df.iterrows():\n",
    "                if row[-2] != last_name: \n",
    "                    if last_name != None:\n",
    "                        dataset.append({'file_path':output_path, 'codesmells':\",\".join(last_codesmell)})\n",
    "                    output_path = combine_and_save_source_code(os.path.join(prefix,code_dir,str(row[0]),str(row[0]),str(row[1]),str(row[2])))\n",
    "                    last_codesmell = []\n",
    "                last_name = row[-2]\n",
    "                last_codesmell.append(row[-1])\n",
    "        \n",
    "dataset = pd.DataFrame(dataset)  \n",
    "dataset.to_csv('my_data.csv', index=False)\n"
   ]
  }
 ],
 "metadata": {
  "kernelspec": {
   "display_name": "Python 3",
   "language": "python",
   "name": "python3"
  },
  "language_info": {
   "codemirror_mode": {
    "name": "ipython",
    "version": 3
   },
   "file_extension": ".py",
   "mimetype": "text/x-python",
   "name": "python",
   "nbconvert_exporter": "python",
   "pygments_lexer": "ipython3",
   "version": "3.12.2"
  }
 },
 "nbformat": 4,
 "nbformat_minor": 2
}
